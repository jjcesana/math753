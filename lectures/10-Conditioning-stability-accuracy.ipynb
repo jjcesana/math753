{
 "cells": [
  {
   "cell_type": "markdown",
   "metadata": {},
   "source": [
    "# Conditioning, stability, and accuracy\n",
    "\n",
    "Understanding why some numerical calculations go awry. \n",
    "\n"
   ]
  },
  {
   "cell_type": "markdown",
   "metadata": {},
   "source": [
    "## A problematic problem\n",
    "\n",
    "Problem 5 from the homework asks for the root of $f(x) = x^3 - 2x^2 + 4x/3 - 8/27$. Let's investigate this problem with the secant method (repeated here from the previous lecture). "
   ]
  },
  {
   "cell_type": "code",
   "execution_count": 6,
   "metadata": {
    "collapsed": false
   },
   "outputs": [
    {
     "data": {
      "text/plain": [
       "secantsearch (generic function with 2 methods)"
      ]
     },
     "execution_count": 6,
     "metadata": {},
     "output_type": "execute_result"
    }
   ],
   "source": [
    "function secantsearch(f, a::AbstractFloat, b::AbstractFloat, diagnostics=false) \n",
    "# return solution x of f(x) == 0, with a,b serving as initial guesses\n",
    "    \n",
    "    fa = f(a)           # cache values of f(a), f(b)     \n",
    "    fb = f(b)\n",
    "    \n",
    "    # set c to better of a,b (and fc, too)\n",
    "    c,fc = abs(fa) < abs(fb) ? (a,fa) : (b,fb)\n",
    "    \n",
    "    floattype = typeof((a+b)/2) # this'll eval to bigger of a,b types\n",
    "    ϵ = eps(floattype)  # machine epsilon\n",
    "    n = 1               # iteration count\n",
    "    N = 1024            # max iterations\n",
    "    \n",
    "    # start vector for storing root iterates xₙ, assign x₁ = c\n",
    "    x = zeros(floattype, 1)\n",
    "    x[1] = c\n",
    "    \n",
    "    # stop when f(c) is small, |b-a| is small relative to a and b\n",
    "    # or when we reach maximium number of iterations\n",
    "    while abs(fc) > 10ϵ && abs(b-a)/(abs(a)+abs(b)) > 10ϵ && n < N\n",
    "    \n",
    "        # compute new values for c, fc by secant approximation\n",
    "        c = a - fa*(b-a)/(fb-fa)\n",
    "        fc = f(c)\n",
    "        \n",
    "        # print diagnostics if they're turned on\n",
    "        diagnostics && println(\"n = $n, c = $c, f(c) = $(f(c))\")\n",
    "        \n",
    "        # error and exit if f(c) is bigger than both f(a) and f(b)\n",
    "        if abs(fc) > abs(fa) && abs(fc) > abs(fb)\n",
    "            println(\"secantsearch error: f(c) is bigger than f(a), f(b)\")\n",
    "            break # break out of while loop, don't store bad value c\n",
    "        end\n",
    "        \n",
    "        # replace whichever of a, b has bigger f(a), f(b)\n",
    "        if abs(fa) > abs(fb)\n",
    "            a,fa = c,fc\n",
    "        else\n",
    "            b,fb = c,fc\n",
    "        end      \n",
    "        \n",
    "        # store c in x, then increment iteration counter\n",
    "        push!(x,c)   \n",
    "        n += 1\n",
    "    end\n",
    "    \n",
    "    # return c and vector x\n",
    "    c, x\n",
    "    \n",
    "end"
   ]
  },
  {
   "cell_type": "code",
   "execution_count": 13,
   "metadata": {
    "collapsed": false
   },
   "outputs": [
    {
     "data": {
      "text/plain": [
       "f (generic function with 1 method)"
      ]
     },
     "execution_count": 13,
     "metadata": {},
     "output_type": "execute_result"
    }
   ],
   "source": [
    "f(x) = x.^3 - 2*x.^2 + 4/3*x - 8/27"
   ]
  },
  {
   "cell_type": "code",
   "execution_count": 11,
   "metadata": {
    "collapsed": false
   },
   "outputs": [
    {
     "data": {
      "text/plain": [
       "Plots.GRBackend()"
      ]
     },
     "execution_count": 11,
     "metadata": {},
     "output_type": "execute_result"
    }
   ],
   "source": [
    "using Plots\n",
    "gr()"
   ]
  },
  {
   "cell_type": "code",
   "execution_count": 20,
   "metadata": {
    "collapsed": false
   },
   "outputs": [
    {
     "data": {
      "text/html": [
       "<?xml version=\"1.0\" encoding=\"utf-8\"?>\n",
       "<svg xmlns=\"http://www.w3.org/2000/svg\" xmlns:xlink=\"http://www.w3.org/1999/xlink\" width=\"600\" height=\"400\" viewBox=\"0 0 600 400\">\n",
       "<defs>\n",
       "  <clipPath id=\"clip00\">\n",
       "    <rect x=\"0\" y=\"0\" width=\"600\" height=\"400\"/>\n",
       "  </clipPath>\n",
       "</defs>\n",
       "<polygon clip-path=\"url(#clip00)\" points=\"\n",
       "0,400 600,400 600,0 0,0 \n",
       "  \" fill=\"#ffffff\" fill-opacity=\"1\"/>\n",
       "<defs>\n",
       "  <clipPath id=\"clip01\">\n",
       "    <rect x=\"120\" y=\"0\" width=\"421\" height=\"400\"/>\n",
       "  </clipPath>\n",
       "</defs>\n",
       "<polygon clip-path=\"url(#clip00)\" points=\"\n",
       "39.1436,375.813 580.315,375.813 580.315,11.811 39.1436,11.811 \n",
       "  \" fill=\"#ffffff\" fill-opacity=\"1\"/>\n",
       "<defs>\n",
       "  <clipPath id=\"clip02\">\n",
       "    <rect x=\"39\" y=\"11\" width=\"542\" height=\"365\"/>\n",
       "  </clipPath>\n",
       "</defs>\n",
       "<polyline clip-path=\"url(#clip02)\" style=\"stroke:#000000; stroke-width:0.5; stroke-opacity:0.1; fill:none\" points=\"\n",
       "  39.1436,370.353 39.1436,17.2711 \n",
       "  \"/>\n",
       "<polyline clip-path=\"url(#clip02)\" style=\"stroke:#000000; stroke-width:0.5; stroke-opacity:0.1; fill:none\" points=\"\n",
       "  247.286,370.353 247.286,17.2711 \n",
       "  \"/>\n",
       "<polyline clip-path=\"url(#clip02)\" style=\"stroke:#000000; stroke-width:0.5; stroke-opacity:0.1; fill:none\" points=\"\n",
       "  455.429,370.353 455.429,17.2711 \n",
       "  \"/>\n",
       "<polyline clip-path=\"url(#clip02)\" style=\"stroke:#000000; stroke-width:0.5; stroke-opacity:0.1; fill:none\" points=\"\n",
       "  47.2612,312.121 572.197,312.121 \n",
       "  \"/>\n",
       "<polyline clip-path=\"url(#clip02)\" style=\"stroke:#000000; stroke-width:0.5; stroke-opacity:0.1; fill:none\" points=\"\n",
       "  47.2612,245.979 572.197,245.979 \n",
       "  \"/>\n",
       "<polyline clip-path=\"url(#clip02)\" style=\"stroke:#000000; stroke-width:0.5; stroke-opacity:0.1; fill:none\" points=\"\n",
       "  47.2612,179.837 572.197,179.837 \n",
       "  \"/>\n",
       "<polyline clip-path=\"url(#clip02)\" style=\"stroke:#000000; stroke-width:0.5; stroke-opacity:0.1; fill:none\" points=\"\n",
       "  47.2612,113.694 572.197,113.694 \n",
       "  \"/>\n",
       "<polyline clip-path=\"url(#clip02)\" style=\"stroke:#000000; stroke-width:0.5; stroke-opacity:0.1; fill:none\" points=\"\n",
       "  47.2612,47.5523 572.197,47.5523 \n",
       "  \"/>\n",
       "<polyline clip-path=\"url(#clip00)\" style=\"stroke:#000000; stroke-width:1; stroke-opacity:1; fill:none\" points=\"\n",
       "  39.1436,375.813 580.315,375.813 \n",
       "  \"/>\n",
       "<polyline clip-path=\"url(#clip00)\" style=\"stroke:#000000; stroke-width:1; stroke-opacity:1; fill:none\" points=\"\n",
       "  39.1436,375.813 39.1436,370.353 \n",
       "  \"/>\n",
       "<polyline clip-path=\"url(#clip00)\" style=\"stroke:#000000; stroke-width:1; stroke-opacity:1; fill:none\" points=\"\n",
       "  247.286,375.813 247.286,370.353 \n",
       "  \"/>\n",
       "<polyline clip-path=\"url(#clip00)\" style=\"stroke:#000000; stroke-width:1; stroke-opacity:1; fill:none\" points=\"\n",
       "  455.429,375.813 455.429,370.353 \n",
       "  \"/>\n",
       "<polyline clip-path=\"url(#clip00)\" style=\"stroke:#000000; stroke-width:1; stroke-opacity:1; fill:none\" points=\"\n",
       "  39.1436,375.813 39.1436,11.811 \n",
       "  \"/>\n",
       "<polyline clip-path=\"url(#clip00)\" style=\"stroke:#000000; stroke-width:1; stroke-opacity:1; fill:none\" points=\"\n",
       "  39.1436,312.121 47.2612,312.121 \n",
       "  \"/>\n",
       "<polyline clip-path=\"url(#clip00)\" style=\"stroke:#000000; stroke-width:1; stroke-opacity:1; fill:none\" points=\"\n",
       "  39.1436,245.979 47.2612,245.979 \n",
       "  \"/>\n",
       "<polyline clip-path=\"url(#clip00)\" style=\"stroke:#000000; stroke-width:1; stroke-opacity:1; fill:none\" points=\"\n",
       "  39.1436,179.837 47.2612,179.837 \n",
       "  \"/>\n",
       "<polyline clip-path=\"url(#clip00)\" style=\"stroke:#000000; stroke-width:1; stroke-opacity:1; fill:none\" points=\"\n",
       "  39.1436,113.694 47.2612,113.694 \n",
       "  \"/>\n",
       "<polyline clip-path=\"url(#clip00)\" style=\"stroke:#000000; stroke-width:1; stroke-opacity:1; fill:none\" points=\"\n",
       "  39.1436,47.5523 47.2612,47.5523 \n",
       "  \"/>\n",
       "<g clip-path=\"url(#clip00)\">\n",
       "<text style=\"fill:#000000; fill-opacity:1; font-family:Arial,Helvetica Neue,Helvetica,sans-serif; font-size:12; text-anchor:middle;\" transform=\"rotate(0, 39.1436, 389.613)\" x=\"39.1436\" y=\"389.613\">0.0</text>\n",
       "</g>\n",
       "<g clip-path=\"url(#clip00)\">\n",
       "<text style=\"fill:#000000; fill-opacity:1; font-family:Arial,Helvetica Neue,Helvetica,sans-serif; font-size:12; text-anchor:middle;\" transform=\"rotate(0, 247.286, 389.613)\" x=\"247.286\" y=\"389.613\">0.5</text>\n",
       "</g>\n",
       "<g clip-path=\"url(#clip00)\">\n",
       "<text style=\"fill:#000000; fill-opacity:1; font-family:Arial,Helvetica Neue,Helvetica,sans-serif; font-size:12; text-anchor:middle;\" transform=\"rotate(0, 455.429, 389.613)\" x=\"455.429\" y=\"389.613\">1.0</text>\n",
       "</g>\n",
       "<g clip-path=\"url(#clip00)\">\n",
       "<text style=\"fill:#000000; fill-opacity:1; font-family:Arial,Helvetica Neue,Helvetica,sans-serif; font-size:12; text-anchor:end;\" transform=\"rotate(0, 33.1436, 316.621)\" x=\"33.1436\" y=\"316.621\">-0.2</text>\n",
       "</g>\n",
       "<g clip-path=\"url(#clip00)\">\n",
       "<text style=\"fill:#000000; fill-opacity:1; font-family:Arial,Helvetica Neue,Helvetica,sans-serif; font-size:12; text-anchor:end;\" transform=\"rotate(0, 33.1436, 250.479)\" x=\"33.1436\" y=\"250.479\">-0.1</text>\n",
       "</g>\n",
       "<g clip-path=\"url(#clip00)\">\n",
       "<text style=\"fill:#000000; fill-opacity:1; font-family:Arial,Helvetica Neue,Helvetica,sans-serif; font-size:12; text-anchor:end;\" transform=\"rotate(0, 33.1436, 184.337)\" x=\"33.1436\" y=\"184.337\">0.0</text>\n",
       "</g>\n",
       "<g clip-path=\"url(#clip00)\">\n",
       "<text style=\"fill:#000000; fill-opacity:1; font-family:Arial,Helvetica Neue,Helvetica,sans-serif; font-size:12; text-anchor:end;\" transform=\"rotate(0, 33.1436, 118.194)\" x=\"33.1436\" y=\"118.194\">0.1</text>\n",
       "</g>\n",
       "<g clip-path=\"url(#clip00)\">\n",
       "<text style=\"fill:#000000; fill-opacity:1; font-family:Arial,Helvetica Neue,Helvetica,sans-serif; font-size:12; text-anchor:end;\" transform=\"rotate(0, 33.1436, 52.0523)\" x=\"33.1436\" y=\"52.0523\">0.2</text>\n",
       "</g>\n",
       "<polyline clip-path=\"url(#clip02)\" style=\"stroke:#009af9; stroke-width:1; stroke-opacity:1; fill:none\" points=\"\n",
       "  39.1436,375.813 50.1879,353.335 61.2322,332.645 72.2765,313.668 83.3208,296.332 94.3652,280.561 105.409,266.282 116.454,253.421 127.498,241.903 138.542,231.654 \n",
       "  149.587,222.601 160.631,214.669 171.675,207.784 182.72,201.871 193.764,196.858 204.808,192.669 215.853,189.231 226.897,186.47 237.941,184.31 248.986,182.679 \n",
       "  260.03,181.502 271.074,180.706 282.118,180.215 293.163,179.956 304.207,179.854 315.251,179.837 326.296,179.828 337.34,179.756 348.384,179.544 359.429,179.12 \n",
       "  370.473,178.408 381.517,177.336 392.562,175.829 403.606,173.812 414.65,171.212 425.695,167.954 436.739,163.965 447.783,159.17 458.828,153.495 469.872,146.867 \n",
       "  480.916,139.21 491.96,130.451 503.005,120.516 514.049,109.331 525.093,96.821 536.138,82.9126 547.182,67.5315 558.226,50.6036 569.271,32.0548 580.315,11.811 \n",
       "  \n",
       "  \"/>\n",
       "<polyline clip-path=\"url(#clip02)\" style=\"stroke:#000000; stroke-width:1; stroke-opacity:1; fill:none\" points=\"\n",
       "  39.1436,179.837 50.1879,179.837 61.2322,179.837 72.2765,179.837 83.3208,179.837 94.3652,179.837 105.409,179.837 116.454,179.837 127.498,179.837 138.542,179.837 \n",
       "  149.587,179.837 160.631,179.837 171.675,179.837 182.72,179.837 193.764,179.837 204.808,179.837 215.853,179.837 226.897,179.837 237.941,179.837 248.986,179.837 \n",
       "  260.03,179.837 271.074,179.837 282.118,179.837 293.163,179.837 304.207,179.837 315.251,179.837 326.296,179.837 337.34,179.837 348.384,179.837 359.429,179.837 \n",
       "  370.473,179.837 381.517,179.837 392.562,179.837 403.606,179.837 414.65,179.837 425.695,179.837 436.739,179.837 447.783,179.837 458.828,179.837 469.872,179.837 \n",
       "  480.916,179.837 491.96,179.837 503.005,179.837 514.049,179.837 525.093,179.837 536.138,179.837 547.182,179.837 558.226,179.837 569.271,179.837 580.315,179.837 \n",
       "  \n",
       "  \"/>\n",
       "</svg>\n"
      ]
     },
     "execution_count": 20,
     "metadata": {},
     "output_type": "execute_result"
    }
   ],
   "source": [
    "x = linspace(0,1.3)\n",
    "plot(x,f(x), label=\"\")\n",
    "plot!(x,0*f(x), color=\"black\", label=\"\")"
   ]
  },
  {
   "cell_type": "code",
   "execution_count": 23,
   "metadata": {
    "collapsed": false
   },
   "outputs": [
    {
     "name": "stdout",
     "output_type": "stream",
     "text": [
      "n = 1, c = 0.8888888888888891, f(c) = 0.010973936899862813\n",
      "n = 2, c = 0.8421052631578949, f(c) = 0.005399772129616065\n",
      "n = 3, c = 0.796785304247992, f(c) = 0.002203020416244428\n",
      "n = 4, c = 0.7655533526628087, f(c) = 0.0009669710403885645\n",
      "n = 5, c = 0.7411203540240782, f(c) = 0.0004127229640434882\n",
      "n = 6, c = 0.7229262275146178, f(c) = 0.000178069284412663\n",
      "n = 7, c = 0.7091194332075769, f(c) = 7.650996304064961e-5\n",
      "n = 8, c = 0.6987180509624937, f(c) = 3.292610616567604e-5\n",
      "n = 9, c = 0.6908601641064995, f(c) = 1.4161066591356075e-5\n",
      "n = 10, c = 0.6849301974472575, f(c) = 6.091920437989451e-6\n",
      "n = 11, c = 0.6804532819965489, f(c) = 2.6204324846679228e-6\n",
      "n = 12, c = 0.6770739084149917, f(c) = 1.1272154389896372e-6\n",
      "n = 13, c = 0.6745228512285835, f(c) = 4.848808504709368e-7\n",
      "n = 14, c = 0.6725971277812471, f(c) = 2.085765059556266e-7\n",
      "n = 15, c = 0.6711434384851674, f(c) = 8.972115939087644e-8\n",
      "n = 16, c = 0.6700460819689645, f(c) = 3.859443598042134e-8\n",
      "n = 17, c = 0.6692177117354121, f(c) = 1.6601769958768386e-8\n",
      "n = 18, c = 0.6685923936387071, f(c) = 7.141412794453572e-9\n",
      "n = 19, c = 0.6681203549430375, f(c) = 3.0719480292873413e-9\n",
      "n = 20, c = 0.6677640234781917, f(c) = 1.3214283001161675e-9\n",
      "n = 21, c = 0.6674950368029647, f(c) = 5.684250847792782e-10\n",
      "n = 22, c = 0.6672919848497244, f(c) = 2.445136315643026e-10\n",
      "n = 23, c = 0.6671387053963731, f(c) = 1.0517986481772823e-10\n",
      "n = 24, c = 0.6670229982525897, f(c) = 4.524414176643177e-11\n",
      "n = 25, c = 0.6669356535080833, f(c) = 1.9462209621678994e-11\n",
      "n = 26, c = 0.6668697188947504, f(c) = 8.371858761790918e-12\n",
      "n = 27, c = 0.6668199463242241, f(c) = 3.6013414472790828e-12\n",
      "n = 28, c = 0.6667823721976973, f(c) = 1.5489831639570184e-12\n",
      "n = 29, c = 0.6667540137527497, f(c) = 6.664668816824815e-13\n",
      "n = 30, c = 0.6667325977576534, f(c) = 2.866595849582154e-13\n",
      "n = 31, c = 0.6667164340337894, f(c) = 1.2323475573339238e-13\n",
      "n = 32, c = 0.6667042453561475, f(c) = 5.306866057708248e-14\n",
      "n = 33, c = 0.6666950267043866, f(c) = 2.275957200481571e-14\n",
      "n = 34, c = 0.6666881042735772, f(c) = 9.769962616701378e-15\n",
      "n = 35, c = 0.6666828976589513, f(c) = 4.3298697960381105e-15\n",
      "n = 36, c = 0.6666787536187389, f(c) = 1.7763568394002505e-15\n"
     ]
    }
   ],
   "source": [
    "r,x = secantsearch(f, 0.0, 1.0,true);"
   ]
  },
  {
   "cell_type": "markdown",
   "metadata": {},
   "source": [
    "Hmmm, that's interesting. The secant method took 36 iterations before stopping on this $f(x)$, when it only took 7 iterations for $f(x) = x^2 - 4$. Also, `c` is still changing in the 5th digit between the last two iterations! It looks like we only have 5 or 6 digits of accuracy in our solution $r \\approx 0.66667$. That decimal expansion is pretty suggestive, though. Let's check $f(2/3)$"
   ]
  },
  {
   "cell_type": "code",
   "execution_count": 34,
   "metadata": {
    "collapsed": false
   },
   "outputs": [
    {
     "data": {
      "text/plain": [
       "0.0"
      ]
     },
     "execution_count": 34,
     "metadata": {},
     "output_type": "execute_result"
    }
   ],
   "source": [
    "f(2/3)"
   ]
  },
  {
   "cell_type": "markdown",
   "metadata": {},
   "source": [
    "Indeed, the floating-point computation of `f(2/3)` is zero, exactly! So why can't the secant search find the solution, $r=2/3$ to floating-point accuracy? i.e. `r=0.66666666666666667`?"
   ]
  },
  {
   "cell_type": "code",
   "execution_count": 51,
   "metadata": {
    "collapsed": false
   },
   "outputs": [
    {
     "data": {
      "text/plain": [
       "13-element Array{Float64,1}:\n",
       " 1.0e-15\n",
       " 1.0e-14\n",
       " 1.0e-13\n",
       " 1.0e-12\n",
       " 1.0e-11\n",
       " 1.0e-10\n",
       " 1.0e-9 \n",
       " 1.0e-8 \n",
       " 1.0e-7 \n",
       " 1.0e-6 \n",
       " 1.0e-5 \n",
       " 0.0001 \n",
       " 0.001  "
      ]
     },
     "execution_count": 51,
     "metadata": {},
     "output_type": "execute_result"
    }
   ],
   "source": [
    "ϵ = logspace(-15,-3,13)"
   ]
  },
  {
   "cell_type": "code",
   "execution_count": 49,
   "metadata": {
    "collapsed": false
   },
   "outputs": [
    {
     "data": {
      "text/plain": [
       "13-element Array{Float64,1}:\n",
       " 0.0        \n",
       " 0.0        \n",
       " 0.0        \n",
       " 0.0        \n",
       " 0.0        \n",
       " 0.0        \n",
       " 0.0        \n",
       " 0.0        \n",
       " 0.0        \n",
       " 0.0        \n",
       " 8.88178e-16\n",
       " 9.99978e-13\n",
       " 1.0e-9     "
      ]
     },
     "execution_count": 49,
     "metadata": {},
     "output_type": "execute_result"
    }
   ],
   "source": [
    "f(2/3+ϵ)"
   ]
  },
  {
   "cell_type": "code",
   "execution_count": null,
   "metadata": {
    "collapsed": true
   },
   "outputs": [],
   "source": []
  }
 ],
 "metadata": {
  "kernelspec": {
   "display_name": "Julia 0.6.0",
   "language": "julia",
   "name": "julia-0.6"
  },
  "language_info": {
   "file_extension": ".jl",
   "mimetype": "application/julia",
   "name": "julia",
   "version": "0.6.0"
  }
 },
 "nbformat": 4,
 "nbformat_minor": 2
}
