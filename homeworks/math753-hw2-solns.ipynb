{
 "cells": [
  {
   "cell_type": "markdown",
   "metadata": {},
   "source": [
    "# Math 753/853 HW2: Mathematics in finite precision\n",
    "\n",
    "## Before you begin!\n",
    "\n",
    "**First rename this file \"math753-hw2-mylastname\"** using your last name in the indicated spot. With the file extension, the full filename should be \"math753-hw2-mylastname.ipynb\". No capital letters, please. \n",
    "\n",
    "**To submit the homework** email it to `john.gibson@unh.edu` with the subject \"MATH 753 HW2\" by midnight, Sunday Oct 1, 2017.\n",
    "\n",
    "**Writing explanations in your solutions.**  Many of the problems ask for *explanations* of answers and calculations. For these you should write one to several complete sentences that explain the reasoning behind your work in a manner that would be helpful to a fellow student.\n",
    "\n",
    "## Problem 0: example with solution\n",
    "\n",
    "Use the Conditioning and Accuracy Theorem to estimate a value for the expected relative error $|\\tilde{f} - f|\\,/\\,|f|$ for the floating-point calculation $\\tilde{f}(x)$ of the mathematical problem $f(x)$ in 64-bit arithmetic. Then devise a calculation in Julia that confirms your expectations. Explain each of your answers.\n",
    "\n",
    "**Subtraction, very different numbers.** Estimate a value for the relative error for floating-point calculation of subtraction, $f(x_1, x_2) = x_2 - x_1$, using $x_1 = 17/13 \\times 10^{23}$ and $x_2 = 19/57$. Confirm your estimate by calculating the relative error in Julia. Explain each answer."
   ]
  },
  {
   "cell_type": "code",
   "execution_count": 2,
   "metadata": {},
   "outputs": [
    {
     "data": {
      "text/plain": [
       "3.454132960784313725490204883084017685505574778953623547496062039450477003140082e-17"
      ]
     },
     "execution_count": 2,
     "metadata": {},
     "output_type": "execute_result"
    }
   ],
   "source": [
    "# The condition number of positive floating-point subtraction f(x₁, x₂) = x₂ - x₁ is\n",
    "# κ = max(x₁, x₂)/|x₂ - x₁| \n",
    "# \n",
    "# for x₁ = 17/13 × 10²³ and x₂ = 19/57, this works out to \n",
    "#\n",
    "# κ(x) = 17/13 × 10²³ / |17/13 × 10²³ - 19/57| ≈ 1\n",
    "#\n",
    "# The conditioning and accuracy theorem then estimates the relative error \n",
    "# of the 64-bit calculation to be\n",
    "\n",
    "# |f̃ - f|/|f| = O(κ(x) ϵₘ) ≈ 2e-16\n",
    "\n",
    "# Let's verify that with a direct calculation in Julia. Use BigFloats to represent the\n",
    "# \"real\" numbers in high precision and compute the \"true\" value f, and then calculate\n",
    "# the floating-point value f̃ in Float64. \n",
    "\n",
    "x₁ = BigFloat(17//13) * BigFloat(10)^23\n",
    "x₂ = BigFloat(19//57)\n",
    "\n",
    "f = x₂ - x₁\n",
    "\n",
    "f̃ = Float64(x₂) - Float64(x₁)\n",
    "\n",
    "abs(f̃ - f)/abs(f)"
   ]
  },
  {
   "cell_type": "markdown",
   "metadata": {},
   "source": [
    "The relative error is about 3e-17, which slightly smaller than the estimate with machine precision 2e-16. "
   ]
  },
  {
   "cell_type": "markdown",
   "metadata": {},
   "source": [
    "## Problem 1\n",
    "\n",
    "What is the next `Float64` number after 6.0? Determine the precise value based on the structure of the 64-bit floating point number system as presented in lecture. Explain your reasoning. Then confirm your answer with a few calculations in Julia, and explain how the calculations confirm your expectations. "
   ]
  },
  {
   "cell_type": "code",
   "execution_count": 5,
   "metadata": {},
   "outputs": [
    {
     "data": {
      "text/plain": [
       "6.000000000000001"
      ]
     },
     "execution_count": 5,
     "metadata": {},
     "output_type": "execute_result"
    }
   ],
   "source": [
    "# In Float64, the next number after 1 is 1 + 2^-52, since there are 52 bits allocated to the mantissa. \n",
    "# So for numbers between 1 and 2, the spacing is 2^-52. Larger numbers are built by multiplying these by powers of 2.\n",
    "# So for numbers between 2 and 4, the spacing is 2 × 2^-52 == 2^-51\n",
    "# So for numbers between 4 and 8, the spacing is 4 × 2^-52 == 2^-50. Let's try that out\n",
    "\n",
    "6.0 + 2.0^-50"
   ]
  },
  {
   "cell_type": "code",
   "execution_count": 6,
   "metadata": {},
   "outputs": [
    {
     "data": {
      "text/plain": [
       "8.881784197001252e-16"
      ]
     },
     "execution_count": 6,
     "metadata": {},
     "output_type": "execute_result"
    }
   ],
   "source": [
    "(6.0 + 2.0^-50) - 6.0"
   ]
  },
  {
   "cell_type": "code",
   "execution_count": 7,
   "metadata": {},
   "outputs": [
    {
     "data": {
      "text/plain": [
       "8.881784197001252e-16"
      ]
     },
     "execution_count": 7,
     "metadata": {},
     "output_type": "execute_result"
    }
   ],
   "source": [
    "2.0^-50"
   ]
  },
  {
   "cell_type": "code",
   "execution_count": 8,
   "metadata": {},
   "outputs": [
    {
     "data": {
      "text/plain": [
       "6.0"
      ]
     },
     "execution_count": 8,
     "metadata": {},
     "output_type": "execute_result"
    }
   ],
   "source": [
    "# Yep, we can definitely represent 6 + 2^-50. Can we fit another number between 6 and that? Let's try\n",
    "6.0 + 2.0^-51"
   ]
  },
  {
   "cell_type": "code",
   "execution_count": 9,
   "metadata": {},
   "outputs": [
    {
     "data": {
      "text/plain": [
       "0.0"
      ]
     },
     "execution_count": 9,
     "metadata": {},
     "output_type": "execute_result"
    }
   ],
   "source": [
    "# Doesn't look like it. Try subtracting off 6 to see exactly what the difference is\n",
    "(6.0 + 2.0^-51) - 6.0"
   ]
  },
  {
   "cell_type": "code",
   "execution_count": 10,
   "metadata": {},
   "outputs": [
    {
     "data": {
      "text/plain": [
       "6.000000000000001"
      ]
     },
     "execution_count": 10,
     "metadata": {},
     "output_type": "execute_result"
    }
   ],
   "source": [
    "# Ok, that shows that 6.0 + 2.0^-51 rounds down to 6.0 exactly.\n",
    "# Julia actually has a convenient function for finding the next float after a given number\n",
    "nextfloat(6.0)"
   ]
  },
  {
   "cell_type": "code",
   "execution_count": 11,
   "metadata": {},
   "outputs": [
    {
     "data": {
      "text/plain": [
       "8.881784197001252e-16"
      ]
     },
     "execution_count": 11,
     "metadata": {},
     "output_type": "execute_result"
    }
   ],
   "source": [
    "# and we can see the difference by subtracting \n",
    "nextfloat(6.0) - 6.0"
   ]
  },
  {
   "cell_type": "code",
   "execution_count": 12,
   "metadata": {
    "collapsed": true
   },
   "outputs": [],
   "source": [
    "# Again, that is 2^-50. So the next Float64 after 6 is 6 + 2^-50"
   ]
  },
  {
   "cell_type": "markdown",
   "metadata": {},
   "source": [
    "## Problem 2\n",
    "\n",
    "What range of integers can be represented exactly in the `Float64` number system? I.e. what is the maximum value of $N$ for which all integers between $-N$ and $N$ are represented exactly as `Float64`s? As before, determine the answer based on the structure of the 64-bit floating-point number system as presented in lecture, and explain your reasoning. Then confirm your answer with a few calculations in Julia, and explain how the calculations confirm your expectations. "
   ]
  },
  {
   "cell_type": "code",
   "execution_count": 13,
   "metadata": {},
   "outputs": [
    {
     "data": {
      "text/plain": [
       "9.007199254740992e15"
      ]
     },
     "execution_count": 13,
     "metadata": {},
     "output_type": "execute_result"
    }
   ],
   "source": [
    "# In lecture we saw that Float 64s had form\n",
    "#\n",
    "# sign * (1 + b1 2^-1 + b2 2^-2 + ... + b52 2^-52) * 2^e\n",
    "# \n",
    "# Transfer 2^n from 2^e onto the sum to get\n",
    "#\n",
    "# sign * (2^n + b1 2^(n-1) + b2 2^(n-2) + ... + b52 2^(n-52)) 2^(e-n)\n",
    "#\n",
    "# So you can produce any integer up to 2^53 - 1 by figuring out its binary expansion\n",
    "# and encoding it in the above form, where 2^n is the leading value in the binary expansion\n",
    "# and e=n so that 2^(e-n) = 1\n",
    "#\n",
    "#     binary     \n",
    "# 1 =   1    =   2^0\n",
    "# 2 =  10    =   2^1\n",
    "# 3 =  11    =   2^1 + 2^0\n",
    "# 4 = 100    =   2^2 +  0 \n",
    "# 5 = 101    =   2^2 +  0  + 2^0\n",
    "# 6 = 110    =   2^2 + 2^1 +  0 \n",
    "# 7 = 111    =   2^2 + 2^1 + 2^0\n",
    "#\n",
    "# etc. That works up to n=52\n",
    "#\n",
    "# 2^53 - 1   =   2^52 + 2^51 + 2^50 + ... + 2^2 + 2^1 + 2^0\n",
    "#\n",
    "# After that, we can only get larger numbers by increasing the exponent, i.e. multiplying \n",
    "# previous numbers by powers of two. That means no further odd numbers can be represented\n",
    "# exactly as Float64s! We can represent 2^53 exactly but not 2^53 + 1. So the range of\n",
    "# integers that can be represented exactly as Float64's is -2^53 to 2^53. Let's verify.\n",
    "\n",
    "2.0^53"
   ]
  },
  {
   "cell_type": "code",
   "execution_count": 14,
   "metadata": {},
   "outputs": [
    {
     "data": {
      "text/plain": [
       "0"
      ]
     },
     "execution_count": 14,
     "metadata": {},
     "output_type": "execute_result"
    }
   ],
   "source": [
    "# show that 2.0^53 is exactly the integer 2^53\n",
    "Int64(2.0^53)  - 2^53  "
   ]
  },
  {
   "cell_type": "code",
   "execution_count": 16,
   "metadata": {},
   "outputs": [
    {
     "data": {
      "text/plain": [
       "0"
      ]
     },
     "execution_count": 16,
     "metadata": {},
     "output_type": "execute_result"
    }
   ],
   "source": [
    "# show that 2.0^53 - 1.0 is exactly the integer 2^53 - 1\n",
    "Int64(2.0^53 - 1.0)  - (2^53 - 1)"
   ]
  },
  {
   "cell_type": "code",
   "execution_count": 17,
   "metadata": {},
   "outputs": [
    {
     "data": {
      "text/plain": [
       "-1"
      ]
     },
     "execution_count": 17,
     "metadata": {},
     "output_type": "execute_result"
    }
   ],
   "source": [
    "# show that 2.0^53 + 1.0 is not the integer 2^53 + 1\n",
    "Int64(2.0^53 + 1.0)  - (2^53 + 1)"
   ]
  },
  {
   "cell_type": "code",
   "execution_count": 18,
   "metadata": {},
   "outputs": [
    {
     "name": "stdout",
     "output_type": "stream",
     "text": [
      "Int64(-(2.0 ^ 53)) - -(2 ^ 53) = 0\n",
      "Int64(-(2.0 ^ 53) + 1.0) - (-(2 ^ 53) + 1) = 0\n",
      "Int64(-(2.0 ^ 53) - 1.0) - (-(2 ^ 53) - 1) = 1\n"
     ]
    },
    {
     "data": {
      "text/plain": [
       "1"
      ]
     },
     "execution_count": 18,
     "metadata": {},
     "output_type": "execute_result"
    }
   ],
   "source": [
    "# Show all the same for -2^53\n",
    "@show Int64(-2.0^53)  - (-2^53)\n",
    "@show Int64(-2.0^53 + 1.0)  - (-2^53 + 1)\n",
    "@show Int64(-2.0^53 - 1.0)  - (-2^53 - 1)"
   ]
  },
  {
   "cell_type": "code",
   "execution_count": 19,
   "metadata": {
    "collapsed": true
   },
   "outputs": [],
   "source": [
    "# This confirms that the range of exact integer Float64s is -2^53 to 2^53"
   ]
  },
  {
   "cell_type": "markdown",
   "metadata": {},
   "source": [
    "## Problem 3\n",
    "\n",
    "There is a debate underway in the Julia development community whether the time library should represent time with floating-point numbers or with integers. (https://discourse.julialang.org/t/why-do-time-quantities-have-to-be-integers/5864/51) Suppose you want to measure time with millisecond accuracy near the present, but also dates as far back as 0 BC, using just a single number. What kind of number should you use, integer or floating-point? How many bits would you need? Explain your reasoning. "
   ]
  },
  {
   "cell_type": "code",
   "execution_count": 20,
   "metadata": {},
   "outputs": [
    {
     "data": {
      "text/plain": [
       "6.3649936512e13"
      ]
     },
     "execution_count": 20,
     "metadata": {},
     "output_type": "execute_result"
    }
   ],
   "source": [
    "# Ok, how many milliseconds ago was 0 B.C.? \n",
    "# (1000 ms per s) * (60 s/min) * (60 min/hr) * (24 hr/day) * (365.24 day/yr) * (2017 yr)\n",
    "1000*60*60*24*365.24*2017"
   ]
  },
  {
   "cell_type": "code",
   "execution_count": 22,
   "metadata": {},
   "outputs": [
    {
     "data": {
      "text/plain": [
       "2.147483648e9"
      ]
     },
     "execution_count": 22,
     "metadata": {},
     "output_type": "execute_result"
    }
   ],
   "source": [
    "# Ok, 0 BC was 6 × 10¹³ milliseconds ago. So if we count in milliseconds with integers, \n",
    "# we need to be able to represent integers up to at least 6 × 10¹³ to go back to 0 BC\n",
    "\n",
    "# Int32 spans 2^-31 to 2^31. Is 2^31 big enough?\n",
    "2.0^31"
   ]
  },
  {
   "cell_type": "code",
   "execution_count": 23,
   "metadata": {},
   "outputs": [
    {
     "data": {
      "text/plain": [
       "9.223372036854776e18"
      ]
     },
     "execution_count": 23,
     "metadata": {},
     "output_type": "execute_result"
    }
   ],
   "source": [
    "# 2^31 ≈ 2e09 << 6e13, so Int32 is not big enough to count in milliseconds back to 0 BC\n",
    "\n",
    "# Let's try Int64, which spans -2^63 to 2^63\n",
    "2.0^63"
   ]
  },
  {
   "cell_type": "code",
   "execution_count": 24,
   "metadata": {
    "collapsed": true
   },
   "outputs": [],
   "source": [
    "# 2^63 ≈ 1e19 >> 6e13, so Int64 is big enough to count in milliseconds back to 0 BC\n",
    "#\n",
    "# Still, I would prefer to use a floating point number system to represent time, \n",
    "# since this would allow very high precision time stamps near the present (1e-308 seconds, for example)\n",
    "# and very long times going into the future and past (±1e300 seconds, for example). "
   ]
  },
  {
   "cell_type": "markdown",
   "metadata": {},
   "source": [
    "## Problems 4-10\n",
    "\n",
    "For each of problems 4 through 10, use the Conditioning and Accuracy Theorem to estimate a value for the expected relative error $|\\tilde{f} - f|\\,/\\,|f|$ for the floating-point calculation $\\tilde{f}(x)$ of the mathematical problem $f(x)$ in 64-bit arithmetic. Then devise a calculation in Julia that confirms your expectations. Explain each of your answers."
   ]
  },
  {
   "cell_type": "code",
   "execution_count": null,
   "metadata": {
    "collapsed": true
   },
   "outputs": [],
   "source": []
  },
  {
   "cell_type": "markdown",
   "metadata": {},
   "source": [
    "## Problem 4\n",
    "\n",
    "**Multiplication, order-1 numbers.** Estimate a value for the relative error for floating-point calculation of multiplication $f(x) = cx$, with  $c=7/11$ and $x=19/3$ (numbers both close to 1). Confirm your estimate by calculating the relative error in Julia. Explain each answer.\n"
   ]
  },
  {
   "cell_type": "code",
   "execution_count": null,
   "metadata": {
    "collapsed": true
   },
   "outputs": [],
   "source": []
  },
  {
   "cell_type": "markdown",
   "metadata": {},
   "source": [
    "## Problem 5\n",
    "\n",
    "**Multiplication, large numbers.** Estimate a value for the relative error for floating-point calculation of multiplication, $f(x) = cx$, using $c=2/3 \\times 10^{72}$ and $x=5/7 \\times 10^{200}$ (two very large numbers). Confirm your estimate by calculating the relative error in Julia. Explain each answer."
   ]
  },
  {
   "cell_type": "code",
   "execution_count": null,
   "metadata": {
    "collapsed": true
   },
   "outputs": [],
   "source": []
  },
  {
   "cell_type": "markdown",
   "metadata": {},
   "source": [
    "## Problem 6\n",
    "\n",
    "**Addition, order-1 numbers.** Estimate a value for the relative error for floating-point calculation of addition, $f(x_1, x_2) = x_1 + x_2$, using $x_1 = 17/3$ and $x_2 = 5/11$ (two numbers near 1). Confirm your estimate by calculating the relative error in Julia. Explain each answer."
   ]
  },
  {
   "cell_type": "code",
   "execution_count": null,
   "metadata": {
    "collapsed": true
   },
   "outputs": [],
   "source": []
  },
  {
   "cell_type": "markdown",
   "metadata": {},
   "source": [
    "## Problem 7\n",
    "\n",
    "**Subtraction, very close numbers.** Estimate a value for the relative error for floating-point calculation of subtraction, $f(x_1, x_2) = x_2 - x_1$, using $x_1 = 129/11$ and $x_2 = x_1 + \\delta$, where $\\delta = 10^-13$. Confirm your estimate by calculating the relative error in Julia. Explain each answer.\n",
    "\n"
   ]
  },
  {
   "cell_type": "code",
   "execution_count": null,
   "metadata": {
    "collapsed": true
   },
   "outputs": [],
   "source": []
  },
  {
   "cell_type": "markdown",
   "metadata": {},
   "source": [
    "## Problem 8\n",
    "\n",
    "**Powers, big $x$, small $n$.** Estimate a value for the relative error for floating-point calculation of the power function $f(x) = x^n$ for $x = 11/7 \\times 10^{13}$ and $n=12$. Confirm your estimate by calculating the relative error in Julia. Explain each answer."
   ]
  },
  {
   "cell_type": "code",
   "execution_count": null,
   "metadata": {
    "collapsed": true
   },
   "outputs": [],
   "source": [
    "\n"
   ]
  },
  {
   "cell_type": "markdown",
   "metadata": {},
   "source": [
    "## Problem 9\n",
    "\n",
    "**Powers, small $n$, big $x$.** Estimate a value for the relative error for floating-point calculation of the power function $f(x) = x^n$ for $x = 12$ and $n = 11/7 \\times 10^{13}$. Compare your estimate to the relative error calculated in Julia. Explain each answer."
   ]
  },
  {
   "cell_type": "code",
   "execution_count": null,
   "metadata": {
    "collapsed": true
   },
   "outputs": [],
   "source": []
  },
  {
   "cell_type": "markdown",
   "metadata": {},
   "source": [
    "## Problem 10\n",
    "\n",
    "**Solution of linear system.** Estimate a value for the relative error for numerical solution of the linear system $Ax=b$ for the given $A$ and $b$. Compare your estimate to a direct calculation of the relative error in Julia. Explain.\n",
    "\n",
    "\n",
    "Note that in this case the data is $A,b$, the solution is $x$, the mathematical function is is $f(A,b) = A^{-1}b = x$, and the relative error is $|\\tilde{x} - x\\|\\, / \\, \\|x\\|$. The condition number of the $Ax=b$ solve is $\\kappa(A) = \\|A\\| \\|A^{-1}\\|$, which can be calculated in Julia with `cond(A)`. "
   ]
  },
  {
   "cell_type": "code",
   "execution_count": 29,
   "metadata": {},
   "outputs": [
    {
     "data": {
      "text/plain": [
       "randA (generic function with 1 method)"
      ]
     },
     "execution_count": 29,
     "metadata": {},
     "output_type": "execute_result"
    }
   ],
   "source": [
    "function randA(m, κ)\n",
    "    σ = logspace(0, -log10(κ), m)\n",
    "    Σ = diagm(σ)\n",
    "    U,tmp = qr(randn(m,m))\n",
    "    V,tmp = qr(randn(m,m))\n",
    "    A = U*Σ*V'\n",
    "end\n",
    "A = randA(5, 1e15);      # generate a random matrix A with condition number 1e15\n",
    "x = randn(5);            # generate a random vector x, the true solution of Ax=b\n",
    "b = A*x;                 # determine the right-hand-side vector b s.t. Ax=b"
   ]
  },
  {
   "cell_type": "code",
   "execution_count": null,
   "metadata": {
    "collapsed": true
   },
   "outputs": [],
   "source": []
  }
 ],
 "metadata": {
  "kernelspec": {
   "display_name": "Julia 0.6.0",
   "language": "julia",
   "name": "julia-0.6"
  },
  "language_info": {
   "file_extension": ".jl",
   "mimetype": "application/julia",
   "name": "julia",
   "version": "0.6.0"
  }
 },
 "nbformat": 4,
 "nbformat_minor": 1
}
