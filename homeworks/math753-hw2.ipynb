{
 "cells": [
  {
   "cell_type": "markdown",
   "metadata": {},
   "source": [
    "# Math 753/853 HW2: Mathematics in finite precision\n",
    "\n",
    "## Before you begin!\n",
    "\n",
    "**First rename this file \"math753-hw2-mylastname\"** using your last name in the indicated spot. With the file extension, the full filename should be \"math753-hw2-mylastname.ipynb\". No capital letters, please. \n",
    "\n",
    "**To submit the homework** email it to `john.gibson@unh.edu` with the subject \"MATH 753 HW2\" by midnight, Sunday Oct 1, 2017.\n",
    "\n",
    "**Writing explanations in your solutions.**  Many of the problems ask for *explanations* of answers and calculations. For these you should write one to several complete sentences that explain the reasoning behind your work in a manner that would be helpful to a fellow student.\n",
    "\n",
    "## Problem 0: example with solution\n",
    "\n",
    "Use the Conditioning and Accuracy Theorem to estimate a value for the expected relative error $|\\tilde{f} - f|\\,/\\,|f|$ for the floating-point calculation $\\tilde{f}(x)$ of the mathematical problem $f(x)$ in 64-bit arithmetic. Then devise a calculation in Julia that confirms your expectations. Explain each of your answers.\n",
    "\n",
    "**Subtraction, very different numbers.** Estimate a value for the relative error for floating-point calculation of subtraction, $f(x_1, x_2) = x_2 - x_1$, using $x_1 = 17/13 \\times 10^{23}$ and $x_2 = 19/57$. Confirm your estimate by calculating the relative error in Julia. Explain each answer."
   ]
  },
  {
   "cell_type": "code",
   "execution_count": 2,
   "metadata": {},
   "outputs": [
    {
     "data": {
      "text/plain": [
       "3.454132960784313725490204883084017685505574778953623547496062039450477003140082e-17"
      ]
     },
     "execution_count": 2,
     "metadata": {},
     "output_type": "execute_result"
    }
   ],
   "source": [
    "# The condition number of positive floating-point subtraction f(x₁, x₂) = x₂ - x₁ is\n",
    "# κ = max(x₁, x₂)/|x₂ - x₁| \n",
    "# \n",
    "# for x₁ = 17/13 × 10²³ and x₂ = 19/57, this works out to \n",
    "#\n",
    "# κ(x) = 17/13 × 10²³ / |17/13 × 10²³ - 19/57| ≈ 1\n",
    "#\n",
    "# The conditioning and accuracy theorem then estimates the relative error \n",
    "# of the 64-bit calculation to be\n",
    "\n",
    "# |f̃ - f|/|f| = O(κ(x) ϵₘ) ≈ 2e-16\n",
    "\n",
    "# Let's verify that with a direct calculation in Julia. Use BigFloats to represent the\n",
    "# \"real\" numbers in high precision and compute the \"true\" value f, and then calculate\n",
    "# the floating-point value f̃ in Float64. \n",
    "\n",
    "x₁ = BigFloat(17//13) * BigFloat(10)^23\n",
    "x₂ = BigFloat(19//57)\n",
    "\n",
    "f = x₂ - x₁\n",
    "\n",
    "f̃ = Float64(x₂) - Float64(x₁)\n",
    "\n",
    "abs(f̃ - f)/abs(f)"
   ]
  },
  {
   "cell_type": "markdown",
   "metadata": {},
   "source": [
    "The relative error is about 3e-17, which slightly smaller than the estimate with machine precision 2e-16. "
   ]
  },
  {
   "cell_type": "markdown",
   "metadata": {},
   "source": [
    "## Problem 1\n",
    "\n",
    "What is the next `Float64` number after 6.0? Determine the precise value based on the structure of the 64-bit floating point number system as presented in lecture. Explain your reasoning. Then confirm your answer with a few calculations in Julia, and explain how the calculations confirm your expectations. "
   ]
  },
  {
   "cell_type": "code",
   "execution_count": null,
   "metadata": {
    "collapsed": true
   },
   "outputs": [],
   "source": []
  },
  {
   "cell_type": "markdown",
   "metadata": {},
   "source": [
    "## Problem 2\n",
    "\n",
    "What range of integers can be represented exactly in the `Float64` number system? I.e. what is the maximum value of $N$ for which all integers between $-N$ and $N$ are represented exactly as `Float64`s? As before, determine the answer based on the structure of the 64-bit floating-point number system as presented in lecture, and explain your reasoning. Then confirm your answer with a few calculations in Julia, and explain how the calculations confirm your expectations. "
   ]
  },
  {
   "cell_type": "code",
   "execution_count": null,
   "metadata": {
    "collapsed": true
   },
   "outputs": [],
   "source": []
  },
  {
   "cell_type": "markdown",
   "metadata": {},
   "source": [
    "## Problem 3\n",
    "\n",
    "There is a debate underway in the Julia development community whether the time library should represent time with floating-point numbers or with integers. (https://discourse.julialang.org/t/why-do-time-quantities-have-to-be-integers/5864/51) Suppose you want to measure time with millisecond accuracy near the present, but also dates as far back as 0 BC, using just a single number. What kind of number should you use, integer or floating-point? How many bits would you need? Explain your reasoning. "
   ]
  },
  {
   "cell_type": "code",
   "execution_count": null,
   "metadata": {
    "collapsed": true
   },
   "outputs": [],
   "source": []
  },
  {
   "cell_type": "markdown",
   "metadata": {},
   "source": [
    "## Problems 4-10\n",
    "\n",
    "For each of problems 4 through 10, use the Conditioning and Accuracy Theorem to estimate a value for the expected relative error $|\\tilde{f} - f|\\,/\\,|f|$ for the floating-point calculation $\\tilde{f}(x)$ of the mathematical problem $f(x)$ in 64-bit arithmetic. Then devise a calculation in Julia that confirms your expectations. Explain each of your answers."
   ]
  },
  {
   "cell_type": "code",
   "execution_count": null,
   "metadata": {
    "collapsed": true
   },
   "outputs": [],
   "source": []
  },
  {
   "cell_type": "markdown",
   "metadata": {},
   "source": [
    "## Problem 4\n",
    "\n",
    "**Multiplication, order-1 numbers.** Estimate a value for the relative error for floating-point calculation of multiplication $f(x) = cx$, with  $c=7/11$ and $x=19/3$ (numbers both close to 1). Confirm your estimate by calculating the relative error in Julia. Explain each answer.\n"
   ]
  },
  {
   "cell_type": "code",
   "execution_count": null,
   "metadata": {},
   "outputs": [],
   "source": []
  },
  {
   "cell_type": "markdown",
   "metadata": {},
   "source": [
    "## Problem 5\n",
    "\n",
    "**Multiplication, large numbers.** Estimate a value for the relative error for floating-point calculation of multiplication, $f(x) = cx$, using $c=2/3 \\times 10^{72}$ and $x=5/7 \\times 10^{200}$ (two very large numbers). Confirm your estimate by calculating the relative error in Julia. Explain each answer."
   ]
  },
  {
   "cell_type": "code",
   "execution_count": null,
   "metadata": {
    "collapsed": true
   },
   "outputs": [],
   "source": []
  },
  {
   "cell_type": "markdown",
   "metadata": {},
   "source": [
    "## Problem 6\n",
    "\n",
    "**Addition, order-1 numbers.** Estimate a value for the relative error for floating-point calculation of addition, $f(x_1, x_2) = x_1 + x_2$, using $x_1 = 17/3$ and $x_2 = 5/11$ (two numbers near 1). Confirm your estimate by calculating the relative error in Julia. Explain each answer."
   ]
  },
  {
   "cell_type": "code",
   "execution_count": null,
   "metadata": {},
   "outputs": [],
   "source": []
  },
  {
   "cell_type": "markdown",
   "metadata": {},
   "source": [
    "## Problem 7\n",
    "\n",
    "**Subtraction, very close numbers.** Estimate a value for the relative error for floating-point calculation of subtraction, $f(x_1, x_2) = x_2 - x_1$, using $x_1 = 129/11$ and $x_2 = x_1 + \\delta$, where $\\delta = 10^-13$. Confirm your estimate by calculating the relative error in Julia. Explain each answer.\n",
    "\n"
   ]
  },
  {
   "cell_type": "code",
   "execution_count": null,
   "metadata": {},
   "outputs": [],
   "source": []
  },
  {
   "cell_type": "markdown",
   "metadata": {},
   "source": [
    "## Problem 8\n",
    "\n",
    "**Powers, big $x$, small $n$.** Estimate a value for the relative error for floating-point calculation of the power function $f(x) = x^n$ for $x = 11/7 \\times 10^{13}$ and $n=12$. Confirm your estimate by calculating the relative error in Julia. Explain each answer."
   ]
  },
  {
   "cell_type": "code",
   "execution_count": null,
   "metadata": {},
   "outputs": [],
   "source": [
    "\n"
   ]
  },
  {
   "cell_type": "markdown",
   "metadata": {},
   "source": [
    "## Problem 9\n",
    "\n",
    "**Powers, small $n$, big $x$.** Estimate a value for the relative error for floating-point calculation of the power function $f(x) = x^n$ for $x = 12$ and $n = 11/7 \\times 10^{13}$. Compare your estimate to the relative error calculated in Julia. Explain each answer."
   ]
  },
  {
   "cell_type": "code",
   "execution_count": null,
   "metadata": {
    "collapsed": true
   },
   "outputs": [],
   "source": []
  },
  {
   "cell_type": "markdown",
   "metadata": {},
   "source": [
    "## Problem 10\n",
    "\n",
    "**Solution of linear system.** Estimate a value for the relative error for numerical solution of the linear system $Ax=b$ for the given $A$ and $b$. Compare your estimate to a direct calculation of the relative error in Julia. Explain.\n",
    "\n",
    "\n",
    "Note that in this case the data is $A,b$, the solution is $x$, the mathematical function is is $f(A,b) = A^{-1}b = x$, and the relative error is $|\\tilde{x} - x\\|\\, / \\, \\|x\\|$. The condition number of the $Ax=b$ solve is $\\kappa(A) = \\|A\\| \\|A^{-1}\\|$, which can be calculated in Julia with `cond(A)`. "
   ]
  },
  {
   "cell_type": "code",
   "execution_count": 29,
   "metadata": {},
   "outputs": [
    {
     "data": {
      "text/plain": [
       "randA (generic function with 1 method)"
      ]
     },
     "execution_count": 29,
     "metadata": {},
     "output_type": "execute_result"
    }
   ],
   "source": [
    "function randA(m, κ)\n",
    "    σ = logspace(0, -log10(κ), m)\n",
    "    Σ = diagm(σ)\n",
    "    U,tmp = qr(randn(m,m))\n",
    "    V,tmp = qr(randn(m,m))\n",
    "    A = U*Σ*V'\n",
    "end\n",
    "A = randA(5, 1e15);      # generate a random matrix A with condition number 1e15\n",
    "x = randn(5);            # generate a random vector x, the true solution of Ax=b\n",
    "b = A*x;                 # determine the right-hand-side vector b s.t. Ax=b"
   ]
  },
  {
   "cell_type": "code",
   "execution_count": null,
   "metadata": {
    "collapsed": true
   },
   "outputs": [],
   "source": []
  }
 ],
 "metadata": {
  "kernelspec": {
   "display_name": "Julia 0.6.0",
   "language": "julia",
   "name": "julia-0.6"
  },
  "language_info": {
   "file_extension": ".jl",
   "mimetype": "application/julia",
   "name": "julia",
   "version": "0.6.0"
  }
 },
 "nbformat": 4,
 "nbformat_minor": 1
}
