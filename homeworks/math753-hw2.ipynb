{
 "cells": [
  {
   "cell_type": "markdown",
   "metadata": {},
   "source": [
    "## All problems\n",
    "\n",
    "Many of the problems ask for *explanations* of answers and calculations. For these you should write one to several complete sentences that explain the reasoning behind your work in a manner that would be helpful to a fellow student. \n",
    "\n",
    "## Problem\n",
    "\n",
    "What is the next `Float64` number after 6.0? Determine the precise value based on the structure of the 64-bit floating point number system as presented in lecture. Describe your reasoning fully (e.g. write a few complete sentences in English which would explain your reasoning clearly to a fellow student). Then confirm your answer with a calculation in Julia. "
   ]
  },
  {
   "cell_type": "code",
   "execution_count": null,
   "metadata": {
    "collapsed": true
   },
   "outputs": [],
   "source": []
  },
  {
   "cell_type": "markdown",
   "metadata": {},
   "source": [
    "## Problem \n",
    "\n",
    "What range of integers can be represented exactly in the `Float64` number system? I.e. what is the maximum value of $N$ for which all integers between $-N$ and $N$ are represented exactly as `Float64`s. As before, determine the answer based on the structure of the 64-bit floating-point number system as presented in lecture, and explain your reasoning. Then confirm your answer with a few calculations in Julia, and explain how the calculations confirm your expectations. "
   ]
  },
  {
   "cell_type": "code",
   "execution_count": null,
   "metadata": {
    "collapsed": true
   },
   "outputs": [],
   "source": []
  },
  {
   "cell_type": "markdown",
   "metadata": {},
   "source": [
    "## Problem \n",
    "\n",
    "There is a debate underway in the Julia development community whether the time library should represent time with floating-point numbers or with integers. (https://discourse.julialang.org/t/why-do-time-quantities-have-to-be-integers/5864/51) Suppose you want to measure time with millisecond accuracy near the present, but also dates as far back as 0 BC, using just a single number. What kind of number should you use, integer or floating-point? How many bits would you need? Please explain your reasoning fully. "
   ]
  },
  {
   "cell_type": "code",
   "execution_count": null,
   "metadata": {
    "collapsed": true
   },
   "outputs": [],
   "source": []
  },
  {
   "cell_type": "markdown",
   "metadata": {},
   "source": [
    "## Problems X-Y\n",
    "\n",
    "For each of problems X through Y, use the Conditioning and Accuracy Theorem to estimate a value for the expected relative error $|\\tilde{f} - f|\\,/\\,|f|$ for the floating-point calculation $\\tilde{f}(x)$ of the mathematical problem $f(x)$ in 64-bit arithmetic. Then devise a calculation in Julia that confirms your expectations. Explain each of your answers."
   ]
  },
  {
   "cell_type": "markdown",
   "metadata": {},
   "source": [
    "## Problem 1. \n",
    "\n",
    "Scalar multiplication $f(x) = cx$. Condition number is $\\kappa = 1$. \n"
   ]
  },
  {
   "cell_type": "code",
   "execution_count": null,
   "metadata": {
    "collapsed": false
   },
   "outputs": [],
   "source": []
  },
  {
   "cell_type": "code",
   "execution_count": 4,
   "metadata": {
    "collapsed": false
   },
   "outputs": [
    {
     "data": {
      "text/plain": [
       "3.039896376949833384493277186439150855654761904761904761904762444522439455307514e-17"
      ]
     },
     "execution_count": 4,
     "metadata": {},
     "output_type": "execute_result"
    }
   ],
   "source": [
    "c = BigFloat(3//19)\n",
    "x = BigFloat(7//11)\n",
    "\n",
    "f = c*x\n",
    "f̃ = Float64(c)*Float64(x)\n",
    "\n",
    "abs(f̃ - f)/abs(f)"
   ]
  },
  {
   "cell_type": "code",
   "execution_count": 5,
   "metadata": {
    "collapsed": false
   },
   "outputs": [
    {
     "data": {
      "text/plain": [
       "8.39966623510554109559019391867281175106050489360511630169919801987848897855892e-18"
      ]
     },
     "execution_count": 5,
     "metadata": {},
     "output_type": "execute_result"
    }
   ],
   "source": [
    "c = BigFloat(3//19)*1e99\n",
    "x = BigFloat(7//11)*1e49\n",
    "\n",
    "f = c*x\n",
    "f̃ = Float64(c)*Float64(x)\n",
    "\n",
    "abs(f̃ - f)/abs(f)"
   ]
  },
  {
   "cell_type": "markdown",
   "metadata": {},
   "source": [
    "## Problem 2\n",
    "\n",
    "Scalar addition $f(x_1, x_2) = x_1 + x_2$."
   ]
  },
  {
   "cell_type": "code",
   "execution_count": 8,
   "metadata": {
    "collapsed": false
   },
   "outputs": [
    {
     "data": {
      "text/plain": [
       "2.545098039215686274130534409842368319933488989905843152323636720082523588367262e-17"
      ]
     },
     "execution_count": 8,
     "metadata": {},
     "output_type": "execute_result"
    }
   ],
   "source": [
    "x₁ = BigFloat(3//19)*1e19\n",
    "x₂ = BigFloat(4//17)\n",
    "\n",
    "f = x₁ + x₂\n",
    "f̃ = Float64(x₁) + Float64(x₂)\n",
    "\n",
    "abs(f̃ - f)/abs(f)"
   ]
  },
  {
   "cell_type": "markdown",
   "metadata": {},
   "source": [
    "## Problem 3\n",
    "\n",
    "Scalar subtraction, $f(x_1, x_2) = x_2 - x_1$. Let real numbers $x_1 = 129/13$ and $x_2 = x_1 + \\delta$ where $\\delta = 10^{-13}$. In the real numbers, $x_2 - x_1 = \\delta = 10^{-13}$. What is the expected relative error $|\\tilde{f} - f|/|f|$ for the floating-point calculation of $x_2 - x_1$ in 64-bit arithmetic, based on the Conditioning and Accuracy Theorem? Show your reasoning. Then devise a calculation in Julia that confirms your expectations. \n"
   ]
  },
  {
   "cell_type": "code",
   "execution_count": 28,
   "metadata": {
    "collapsed": false
   },
   "outputs": [
    {
     "data": {
      "text/plain": [
       "(5.240169935859769995008000450211218502739276674031611248936183852520240327738815e-03, 5.240169935859770154171588790995913603471684227841365100175607949495315551757812e-16, 1.000000000000000030373745563400370913603471684227841365100175607949495315551758e-13)"
      ]
     },
     "execution_count": 28,
     "metadata": {},
     "output_type": "execute_result"
    }
   ],
   "source": [
    "δ = 1e-13\n",
    "x₁ = BigFloat(129//13)\n",
    "x₂ = x₁ + δ\n",
    "\n",
    "f = x₁ - x₂\n",
    "f̃ = Float64(x₁) - Float64(x₂)\n",
    "\n",
    "abs(f̃ - f)/abs(f), f̃ - f, abs(f)"
   ]
  },
  {
   "cell_type": "code",
   "execution_count": null,
   "metadata": {
    "collapsed": true
   },
   "outputs": [],
   "source": []
  },
  {
   "cell_type": "code",
   "execution_count": null,
   "metadata": {
    "collapsed": true
   },
   "outputs": [],
   "source": []
  },
  {
   "cell_type": "markdown",
   "metadata": {},
   "source": [
    "## Problem 4\n",
    "\n",
    "power $f(x) = x^n$"
   ]
  },
  {
   "cell_type": "code",
   "execution_count": 21,
   "metadata": {
    "collapsed": false
   },
   "outputs": [
    {
     "data": {
      "text/plain": [
       "9.502680312005280031501588750876338363372820039456421762928766431671837048594457e-15"
      ]
     },
     "execution_count": 21,
     "metadata": {},
     "output_type": "execute_result"
    }
   ],
   "source": [
    "x = big(e)\n",
    "n = big(179.0)\n",
    "\n",
    "f = x^n\n",
    "f̃ = Float64(x)^Float64(n)\n",
    "\n",
    "abs(f̃ - f)/abs(f)"
   ]
  },
  {
   "cell_type": "markdown",
   "metadata": {},
   "source": [
    "## Problem 5\n",
    "\n",
    "Solution of linear system."
   ]
  },
  {
   "cell_type": "code",
   "execution_count": 29,
   "metadata": {
    "collapsed": false
   },
   "outputs": [
    {
     "data": {
      "text/plain": [
       "randA (generic function with 1 method)"
      ]
     },
     "execution_count": 29,
     "metadata": {},
     "output_type": "execute_result"
    }
   ],
   "source": [
    "function randA(m, κ)\n",
    "    σ = logspace(0, -log10(κ), m)\n",
    "    Σ = diagm(σ)\n",
    "    U,tmp = qr(randn(m,m))\n",
    "    V,tmp = qr(randn(m,m))\n",
    "    A = U*Σ*V'\n",
    "end\n"
   ]
  },
  {
   "cell_type": "code",
   "execution_count": 47,
   "metadata": {
    "collapsed": false
   },
   "outputs": [
    {
     "data": {
      "text/plain": [
       "5×5 Array{Float64,2}:\n",
       "  0.22244     0.0205782    0.0612183  -0.0435877    0.034031  \n",
       " -0.0392961  -0.00363137  -0.0108725   0.00772521  -0.00605824\n",
       "  0.157224    0.0145378    0.0433742  -0.0308536    0.0241373 \n",
       "  0.251357    0.0232516    0.0692013  -0.0492648    0.0384748 \n",
       " -0.856329   -0.0791933   -0.236062    0.167969    -0.131323  "
      ]
     },
     "execution_count": 47,
     "metadata": {},
     "output_type": "execute_result"
    }
   ],
   "source": [
    "A = randA(5, 1e15)"
   ]
  },
  {
   "cell_type": "code",
   "execution_count": 48,
   "metadata": {
    "collapsed": false
   },
   "outputs": [
    {
     "data": {
      "text/plain": [
       "5-element Array{Float64,1}:\n",
       " -0.225303\n",
       " -0.671943\n",
       " -0.166272\n",
       "  0.40871 \n",
       "  0.311427"
      ]
     },
     "execution_count": 48,
     "metadata": {},
     "output_type": "execute_result"
    }
   ],
   "source": [
    "x = randn(5)"
   ]
  },
  {
   "cell_type": "code",
   "execution_count": 49,
   "metadata": {
    "collapsed": false
   },
   "outputs": [
    {
     "data": {
      "text/plain": [
       "5-element Array{Float64,1}:\n",
       " -0.0813392\n",
       "  0.014372 \n",
       " -0.0574966\n",
       " -0.0919145\n",
       "  0.313151 "
      ]
     },
     "execution_count": 49,
     "metadata": {},
     "output_type": "execute_result"
    }
   ],
   "source": [
    "b = A*x"
   ]
  },
  {
   "cell_type": "code",
   "execution_count": 50,
   "metadata": {
    "collapsed": false
   },
   "outputs": [
    {
     "data": {
      "text/plain": [
       "5-element Array{Float64,1}:\n",
       " -0.225463\n",
       " -0.670227\n",
       " -0.168956\n",
       "  0.406885\n",
       "  0.313927"
      ]
     },
     "execution_count": 50,
     "metadata": {},
     "output_type": "execute_result"
    }
   ],
   "source": [
    "x̂ = A\\b"
   ]
  },
  {
   "cell_type": "code",
   "execution_count": 51,
   "metadata": {
    "collapsed": false
   },
   "outputs": [
    {
     "data": {
      "text/plain": [
       "0.0049876934733064805"
      ]
     },
     "execution_count": 51,
     "metadata": {},
     "output_type": "execute_result"
    }
   ],
   "source": [
    "norm(x̂ - x)/norm(x)"
   ]
  },
  {
   "cell_type": "code",
   "execution_count": 67,
   "metadata": {
    "collapsed": false
   },
   "outputs": [
    {
     "data": {
      "text/plain": [
       "5×5 Array{Float64,2}:\n",
       "  0.0676934  -0.408041   0.0710563   0.149639    0.180646 \n",
       "  0.075827   -0.456243   0.0794483   0.167331    0.202163 \n",
       "  0.0626421  -0.375666   0.0654147   0.137801    0.166727 \n",
       "  0.0209572  -0.12649    0.0220272   0.0463842   0.0559637\n",
       " -0.0718268   0.434047  -0.0755867  -0.159157   -0.191925 "
      ]
     },
     "execution_count": 67,
     "metadata": {},
     "output_type": "execute_result"
    }
   ],
   "source": [
    "Ã = convert(Array{Float64,2}, A)"
   ]
  },
  {
   "cell_type": "code",
   "execution_count": 68,
   "metadata": {
    "collapsed": false
   },
   "outputs": [
    {
     "data": {
      "text/plain": [
       "9.99790065924683e12"
      ]
     },
     "execution_count": 68,
     "metadata": {},
     "output_type": "execute_result"
    }
   ],
   "source": [
    "cond(Ã)"
   ]
  },
  {
   "cell_type": "code",
   "execution_count": 69,
   "metadata": {
    "collapsed": false
   },
   "outputs": [
    {
     "data": {
      "text/plain": [
       "5-element Array{Float64,1}:\n",
       " -0.641846\n",
       " -1.76862 \n",
       "  0.877396\n",
       "  1.11914 \n",
       " -1.49699 "
      ]
     },
     "execution_count": 69,
     "metadata": {},
     "output_type": "execute_result"
    }
   ],
   "source": [
    "b̃ = convert(Array{Float64,1}, b)"
   ]
  },
  {
   "cell_type": "code",
   "execution_count": 70,
   "metadata": {
    "collapsed": false
   },
   "outputs": [
    {
     "data": {
      "text/plain": [
       "5-element Array{Float64,1}:\n",
       " -1.14531e12\n",
       "  7.05403e12\n",
       "  3.96642e12\n",
       "  1.86205e13\n",
       " -6.21812e11"
      ]
     },
     "execution_count": 70,
     "metadata": {},
     "output_type": "execute_result"
    }
   ],
   "source": [
    "x̃ = Ã\\b̃"
   ]
  },
  {
   "cell_type": "code",
   "execution_count": 71,
   "metadata": {
    "collapsed": false
   },
   "outputs": [
    {
     "data": {
      "text/plain": [
       "6.172061329012690037938807242421238353323318282237103288748085107287282881047971e-05"
      ]
     },
     "execution_count": 71,
     "metadata": {},
     "output_type": "execute_result"
    }
   ],
   "source": [
    "norm(x̃-x)/norm(x)"
   ]
  },
  {
   "cell_type": "code",
   "execution_count": null,
   "metadata": {
    "collapsed": true
   },
   "outputs": [],
   "source": []
  }
 ],
 "metadata": {
  "kernelspec": {
   "display_name": "Julia 0.6.0",
   "language": "julia",
   "name": "julia-0.6"
  },
  "language_info": {
   "file_extension": ".jl",
   "mimetype": "application/julia",
   "name": "julia",
   "version": "0.6.0"
  }
 },
 "nbformat": 4,
 "nbformat_minor": 0
}
